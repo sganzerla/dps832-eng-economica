{
 "cells": [
  {
   "cell_type": "code",
   "execution_count": 1,
   "metadata": {},
   "outputs": [
    {
     "name": "stdout",
     "output_type": "stream",
     "text": [
      "Requirement already satisfied: numpy-financial in c:\\users\\aliss\\anaconda3\\lib\\site-packages (1.0.0)\n",
      "Requirement already satisfied: numpy>=1.15 in c:\\users\\aliss\\anaconda3\\lib\\site-packages (from numpy-financial) (1.20.3)\n"
     ]
    }
   ],
   "source": [
    "import numpy_financial as npf\n",
    "!pip install numpy-financial\n",
    "\n",
    "\n",
    "class Investimento():\n",
    "    def __init__(self, taxa, fluxo_caixa):\n",
    "        self.taxa: float = taxa\n",
    "        self.fluxo_caixa: list[float] = fluxo_caixa\n",
    "\n",
    "    def calc_vpl(self) -> float:\n",
    "        vpl = npf.npv(self.taxa, self.fluxo_caixa)\n",
    "        return round(vpl, 2)\n",
    "\n",
    "\n",
    "def comparar_invest_via_vpl(inv_a: Investimento, inv_b: Investimento):\n",
    "\n",
    "    A = inv_a.calc_vpl()\n",
    "    B = inv_b.calc_vpl()\n",
    "\n",
    "    if(len(inv_a.fluxo_caixa) == len(inv_b.fluxo_caixa)):\n",
    "        print(\"Comparação de investimentos com mesmo período de tempo (\" +\n",
    "              str(len(inv_b.fluxo_caixa) - 1) + \") considerando VPL.\")\n",
    "    else:\n",
    "        print(\"Atenção: Comparação de investimentos com períodos de tempo diferentes (\" +\n",
    "              str(len(inv_a.fluxo_caixa) - 1) + \" != \" + str(len(inv_b.fluxo_caixa) - 1) + \") considerando VPL.\")\n",
    "\n",
    "    print(\"Investimento 1: \", A)\n",
    "    print(\"Investimento 2: \", B)\n",
    "\n",
    "    # avaliando qual investimento é melhor\n",
    "    maior_vpl = A if A > B else B\n",
    "    print(\"Melhor investimento, considerando maior valor de VPL é: \", maior_vpl)\n"
   ]
  },
  {
   "attachments": {},
   "cell_type": "markdown",
   "metadata": {},
   "source": [
    "# VPL - Valor Presente Líquido\n",
    "\n",
    "O método de cálculo do valor presente líquido (VPL) apura, em valores atuais, o ganho financeiro previsto para o projeto. Para tanto, é necessário descapitalizar todos os valores constantes no fluxo de caixa e diminuir este resultado pelo investimento inicial. Se o resultado do VPL for superior a zero, significa que o projeto merece continuar sendo analisado, por outro lado, se o resultado for negativo (inferior a zero), o projeto deve ser descartado.\n",
    "\n",
    "\n"
   ]
  },
  {
   "cell_type": "code",
   "execution_count": 2,
   "metadata": {},
   "outputs": [
    {
     "name": "stdout",
     "output_type": "stream",
     "text": [
      "Comparação de investimentos com mesmo período de tempo (5) considerando VPL.\n",
      "Investimento 1:  5.0\n",
      "Investimento 2:  -2.35\n",
      "Melhor investimento, considerando maior valor de VPL é:  5.0\n"
     ]
    }
   ],
   "source": [
    "\n",
    "# investimento a\n",
    "invest_a = Investimento(\n",
    "    taxa=0.15,\n",
    "    fluxo_caixa=[\n",
    "        -103,\n",
    "        30, 35, 32, 28, 37\n",
    "    ])\n",
    "\n",
    "# investimento b\n",
    "invest_b = Investimento(\n",
    "    taxa=0.18,\n",
    "    fluxo_caixa=[\n",
    "        -103,\n",
    "        30, 35, 32, 28, 37\n",
    "    ])\n",
    "\n",
    "comparar_invest_via_vpl(invest_a, invest_b)\n"
   ]
  },
  {
   "cell_type": "code",
   "execution_count": null,
   "metadata": {},
   "outputs": [],
   "source": []
  }
 ],
 "metadata": {
  "kernelspec": {
   "display_name": "Python 3 (ipykernel)",
   "language": "python",
   "name": "python3"
  },
  "language_info": {
   "codemirror_mode": {
    "name": "ipython",
    "version": 3
   },
   "file_extension": ".py",
   "mimetype": "text/x-python",
   "name": "python",
   "nbconvert_exporter": "python",
   "pygments_lexer": "ipython3",
   "version": "3.9.7"
  },
  "vscode": {
   "interpreter": {
    "hash": "2b6d281538c488b9e400ab39d450b42a19cd685c2e4e72cc47179cc0022e4e5b"
   }
  }
 },
 "nbformat": 4,
 "nbformat_minor": 2
}
