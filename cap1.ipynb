{
 "cells": [
  {
   "cell_type": "markdown",
   "metadata": {},
   "source": [
    "# Capítulo 1\n",
    "\n",
    "Taxa de juros simples e compostos.\n",
    "\n",
    "- Juros simples:\n",
    "\n",
    "  - simples =   taxa ^ tempo\n",
    "\n",
    "- Juros compostos:\n",
    "  - composto =   (1 + Taxa) ^ Tempo\n"
   ]
  },
  {
   "cell_type": "code",
   "execution_count": 11,
   "metadata": {},
   "outputs": [],
   "source": [
    "def calc_juro_composto(taxa: float, tempo: int):\n",
    "    juro_composto = (1 + taxa) ** tempo\n",
    "    return juro_composto\n"
   ]
  },
  {
   "cell_type": "markdown",
   "metadata": {},
   "source": [
    "# Capítulo 2\n",
    "\n",
    "Relações de Equivalência:\n",
    "\n",
    "- 2 pagamento simples\n",
    "- 4 série uniformes\n",
    "- 2 série gradiente\n"
   ]
  },
  {
   "cell_type": "markdown",
   "metadata": {},
   "source": [
    "## 1) Pagamento Simples - Dado \"P\" achar \"F\"\n",
    "\n",
    "Com o valor presente \"P\", espera-se encontrar o valor futuro \"F\" acumulado ao longo do tempo em \"n\" períodos com uma taxa de juros \"i\".\n",
    "\n",
    "![image](./resources/p-to-f.png)\n",
    "\n"
   ]
  },
  {
   "cell_type": "code",
   "execution_count": 18,
   "metadata": {},
   "outputs": [
    {
     "data": {
      "text/plain": [
       "2518.17011681898"
      ]
     },
     "execution_count": 18,
     "metadata": {},
     "output_type": "execute_result"
    }
   ],
   "source": [
    "def obter_v_futuro_c_valor_presente(presente: float, taxa: float, tempo: int):\n",
    "    valor_futuro = presente * calc_juro_composto(taxa, tempo)\n",
    "    return valor_futuro\n",
    "\n",
    "o = obter_v_futuro_c_valor_presente(1000, 0.08, 12)\n",
    "o "
   ]
  },
  {
   "cell_type": "markdown",
   "metadata": {},
   "source": [
    "## 2) Pagemento Simples - Dado \"F\" achar \"P\"\n",
    "\n",
    "Com o valor futuro \"F\", espera-se determinar o valor presente original \"P\" investido ao longo do tempo em \"n\" períodos com uma taxa de juros \"i\".\n",
    "\n",
    "![image](./resources/f-to-p.png)"
   ]
  },
  {
   "cell_type": "code",
   "execution_count": 19,
   "metadata": {},
   "outputs": [
    {
     "data": {
      "text/plain": [
       "999.9999999999999"
      ]
     },
     "execution_count": 19,
     "metadata": {},
     "output_type": "execute_result"
    }
   ],
   "source": [
    "def obter_v_presente_c_valor_futuro(futuro: float, taxa: float, tempo: int):\n",
    "    valor_presente = futuro * (1 / calc_juro_composto(taxa, tempo))\n",
    "    return valor_presente\n",
    "\n",
    "o = obter_v_presente_c_valor_futuro(2518.17011681898, 0.08, 12)\n",
    "o"
   ]
  },
  {
   "cell_type": "markdown",
   "metadata": {},
   "source": [
    "## 3) Série Uniforme - Dado \"A\" achar \"F\"\n",
    "\n",
    "Determinar o valor futuro \"F\" acumulado ao longo de \"n\" períodos a partir de uma série uniforme de \"A\" valores.\n",
    "\n",
    "![image](./resources/a-to-f.png)"
   ]
  },
  {
   "cell_type": "code",
   "execution_count": 20,
   "metadata": {},
   "outputs": [
    {
     "data": {
      "text/plain": [
       "1897.7126460237255"
      ]
     },
     "execution_count": 20,
     "metadata": {},
     "output_type": "execute_result"
    }
   ],
   "source": [
    "def obter_v_futuro_c_valor_serie_uniforme(valor_serie: float, taxa: float, tempo: int):\n",
    "    valor_futuro = valor_serie * (calc_juro_composto(taxa, tempo) - 1) / taxa\n",
    "    return valor_futuro\n",
    "\n",
    "d = obter_v_futuro_c_valor_serie_uniforme(100, 0.08, 12)\n",
    "d"
   ]
  },
  {
   "cell_type": "markdown",
   "metadata": {},
   "source": [
    "## 4) Série Uniforme - Dado \"F\" achar \"A\"\n",
    "\n",
    "Determinar o valor da série uniforme \"A\" através do valor futuro \"F\" acumulado ao longo de \"n\" períodos.\n",
    "\n",
    "    \n",
    "\n",
    "![image](./resources/f-to-a.png)"
   ]
  },
  {
   "cell_type": "code",
   "execution_count": 21,
   "metadata": {},
   "outputs": [
    {
     "data": {
      "text/plain": [
       "100.0"
      ]
     },
     "execution_count": 21,
     "metadata": {},
     "output_type": "execute_result"
    }
   ],
   "source": [
    "def obter_v_serie_uniforme_c_valor_futuro(valor_futuro: float, taxa: float, tempo: int):\n",
    "    serie_uniforme = valor_futuro * (taxa / ((calc_juro_composto(taxa, tempo)) - 1))\n",
    "    return round(serie_uniforme, 2)\n",
    "\n",
    "a = obter_v_serie_uniforme_c_valor_futuro(1897.7126460237255, 0.08, 12)\n",
    "a\n"
   ]
  }
 ],
 "metadata": {
  "interpreter": {
   "hash": "d4ecc00314b053340c011f30feae2cb0599056a19fa729c140ca6ecfe444bda2"
  },
  "kernelspec": {
   "display_name": "Python 3.9.13 64-bit (windows store)",
   "language": "python",
   "name": "python3"
  },
  "language_info": {
   "codemirror_mode": {
    "name": "ipython",
    "version": 3
   },
   "file_extension": ".py",
   "mimetype": "text/x-python",
   "name": "python",
   "nbconvert_exporter": "python",
   "pygments_lexer": "ipython3",
   "version": "3.9.13"
  },
  "orig_nbformat": 4
 },
 "nbformat": 4,
 "nbformat_minor": 2
}
