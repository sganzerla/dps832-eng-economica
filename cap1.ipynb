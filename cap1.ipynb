{
 "cells": [
  {
   "cell_type": "markdown",
   "metadata": {},
   "source": [
    "# Capítulo 1\n",
    "\n",
    "Taxa de juros simples e compostos.\n",
    "\n",
    "- Juros simples:\n",
    "\n",
    "  - simples =   taxa ^ tempo\n",
    "\n",
    "- Juros compostos:\n",
    "  - composto =   (1 + Taxa) ^ Tempo\n"
   ]
  },
  {
   "cell_type": "code",
   "execution_count": 19,
   "metadata": {},
   "outputs": [],
   "source": [
    "def calc_juro_composto(taxa: float, tempo: int):\n",
    "    juro_composto = (1 + taxa) ** tempo\n",
    "    return juro_composto\n"
   ]
  },
  {
   "cell_type": "markdown",
   "metadata": {},
   "source": [
    "# Capítulo 2\n",
    "\n",
    "Relações de Equivalência:\n",
    "\n",
    "- 2 pagamento simples\n",
    "- 4 série uniformes\n",
    "- 2 série gradiente\n"
   ]
  },
  {
   "cell_type": "markdown",
   "metadata": {},
   "source": [
    "## 1) Pagamento Simples - Dado \"P\" achar \"F\"\n",
    "\n",
    "Com o valor presente \"P\", espera-se encontrar o valor futuro \"F\" acumulado ao longo do tempo em \"n\" períodos com uma taxa de juros \"i\".\n",
    "\n",
    "![image](resources/p-to-f.png)\n",
    "\n"
   ]
  },
  {
   "cell_type": "code",
   "execution_count": 20,
   "metadata": {},
   "outputs": [
    {
     "data": {
      "text/plain": [
       "2518.17011681898"
      ]
     },
     "execution_count": 20,
     "metadata": {},
     "output_type": "execute_result"
    }
   ],
   "source": [
    "def obter_v_futuro_com_v_presente(presente: float, taxa: float, tempo: int):\n",
    "    valor_futuro = presente * calc_juro_composto(taxa, tempo)\n",
    "    return valor_futuro\n",
    "\n",
    "v_futuro = obter_v_futuro_com_v_presente(1000, 0.08, 12)\n",
    "v_futuro "
   ]
  },
  {
   "cell_type": "markdown",
   "metadata": {},
   "source": [
    "## 2) Pagamento Simples - Dado \"F\" achar \"P\"\n",
    "\n",
    "Com o valor futuro \"F\", espera-se determinar o valor presente original \"P\" investido ao longo do tempo em \"n\" períodos com uma taxa de juros \"i\".\n",
    "\n",
    "![image](resources/f-to-p.png)"
   ]
  },
  {
   "cell_type": "code",
   "execution_count": 21,
   "metadata": {},
   "outputs": [
    {
     "data": {
      "text/plain": [
       "999.9999999999999"
      ]
     },
     "execution_count": 21,
     "metadata": {},
     "output_type": "execute_result"
    }
   ],
   "source": [
    "def obter_vpresente_com_vfuturo(futuro: float, taxa: float, tempo: int):\n",
    "    valor_presente = futuro * (1 / calc_juro_composto(taxa, tempo))\n",
    "    return valor_presente\n",
    "\n",
    "vpresente = obter_vpresente_com_vfuturo(2518.17011681898, 0.08, 12)\n",
    "vpresente"
   ]
  },
  {
   "cell_type": "markdown",
   "metadata": {},
   "source": [
    "## 3) Série Uniforme - Dado \"A\" achar \"F\"\n",
    "\n",
    "Determinar o valor futuro \"F\" acumulado ao longo de \"n\" períodos a partir de uma série uniforme de \"A\" valores.\n",
    "\n",
    "![image](resources/a-to-f.png)"
   ]
  },
  {
   "cell_type": "code",
   "execution_count": 22,
   "metadata": {},
   "outputs": [
    {
     "data": {
      "text/plain": [
       "2518.1701168189797"
      ]
     },
     "execution_count": 22,
     "metadata": {},
     "output_type": "execute_result"
    }
   ],
   "source": [
    "def obter_vfuturo_com_vserie_uniforme(valor_serie: float, taxa: float, tempo: int):\n",
    "    valor_futuro = valor_serie * (calc_juro_composto(taxa, tempo) - 1) / taxa\n",
    "    return valor_futuro\n",
    "\n",
    "vfuturo = obter_vfuturo_com_vserie_uniforme(132.69501692446948, 0.08, 12)\n",
    "vfuturo"
   ]
  },
  {
   "cell_type": "markdown",
   "metadata": {},
   "source": [
    "## 4) Série Uniforme - Dado \"F\" achar \"A\"\n",
    "\n",
    "Determinar o valor da série uniforme \"A\" através do valor futuro \"F\" acumulado ao longo de \"n\" períodos.\n",
    "\n",
    "![image](resources/f-to-a.png)"
   ]
  },
  {
   "cell_type": "code",
   "execution_count": 23,
   "metadata": {},
   "outputs": [
    {
     "data": {
      "text/plain": [
       "132.69501692446948"
      ]
     },
     "execution_count": 23,
     "metadata": {},
     "output_type": "execute_result"
    }
   ],
   "source": [
    "def obter_vserie_uniforme_com_vfuturo(valor_futuro: float, taxa: float, tempo: int):\n",
    "    serie_uniforme = valor_futuro * (taxa / ((calc_juro_composto(taxa, tempo)) - 1))\n",
    "    return serie_uniforme\n",
    "\n",
    "vserie_uniforme = obter_vserie_uniforme_com_vfuturo(2518.17011681898, 0.08, 12)\n",
    "vserie_uniforme\n"
   ]
  },
  {
   "cell_type": "markdown",
   "metadata": {},
   "source": [
    "## 5) Série Uniforme - Dado \"A\" achar \"P\"\n",
    "\n",
    "Determinar o valor presente \"P\" através dos coeficientes da série uniforme \"A\".\n",
    "\n",
    "![image](resources/a-to-p.png)"
   ]
  },
  {
   "cell_type": "code",
   "execution_count": 24,
   "metadata": {},
   "outputs": [
    {
     "data": {
      "text/plain": [
       "753.6078016925111"
      ]
     },
     "execution_count": 24,
     "metadata": {},
     "output_type": "execute_result"
    }
   ],
   "source": [
    "def obter_vpresente_com_vserie_uniforme(valor_serie: float, taxa: float, tempo: int):\n",
    "    valor_presente = (valor_serie * (calc_juro_composto(taxa, tempo) - 1)) / (taxa * calc_juro_composto(taxa, tempo))\n",
    "    return valor_presente\n",
    "\n",
    "vpresente = obter_vpresente_com_vserie_uniforme(100, 0.08, 12)\n",
    "vpresente"
   ]
  },
  {
   "cell_type": "markdown",
   "metadata": {},
   "source": [
    "## 6) Série Uniforme - Dado \"P\" achar \"A\"\n",
    "\n",
    "Determinar uma série uniforme \"A\" através dos coeficientes do valor presente \"P\", em \"n\" períodos com uma taxa de juros \"i\".\n",
    "\n",
    "![image](resources/p-to-a.png)"
   ]
  },
  {
   "cell_type": "code",
   "execution_count": 25,
   "metadata": {},
   "outputs": [
    {
     "data": {
      "text/plain": [
       "99.91934774412555"
      ]
     },
     "execution_count": 25,
     "metadata": {},
     "output_type": "execute_result"
    }
   ],
   "source": [
    "def obter_vserie_uniforme_com_vpresente(valor_presente: float, taxa: float, tempo: int ):\n",
    "    serie_uniforme = valor_presente * (taxa * calc_juro_composto(taxa, tempo)) / (calc_juro_composto(taxa, tempo) - 1)\n",
    "    return serie_uniforme\n",
    "vserie_uniforme = obter_vserie_uniforme_com_vpresente(753, 0.08, 12)\n",
    "vserie_uniforme"
   ]
  },
  {
   "cell_type": "markdown",
   "metadata": {},
   "source": [
    "## 7) Série Gradiente - Dado \"G\" achar \"A\"\n",
    "\n",
    "Determinar o valor de uma série uniforme \"A\" através de uma série gradiente \"G\" em \"n\" períodos de tempo a uma taxa de juros \"i\".\n",
    "\n",
    "![image](resources\\g-to-a.png)"
   ]
  },
  {
   "cell_type": "code",
   "execution_count": 26,
   "metadata": {},
   "outputs": [
    {
     "data": {
      "text/plain": [
       "459.57474613295756"
      ]
     },
     "execution_count": 26,
     "metadata": {},
     "output_type": "execute_result"
    }
   ],
   "source": [
    "def obter_vserie_uniforme_com_vserie_gradiente(valor_serie_gradiente: float, taxa: float, tempo: int):\n",
    "    serie_uniforme = valor_serie_gradiente * \\\n",
    "        ((1 / taxa) - (tempo / (calc_juro_composto(taxa, tempo) - 1)))\n",
    "    return serie_uniforme\n",
    "\n",
    "vserie_uniforme = obter_vserie_uniforme_com_vserie_gradiente(100, 0.08, 12)\n",
    "vserie_uniforme "
   ]
  },
  {
   "cell_type": "markdown",
   "metadata": {},
   "source": [
    "##  8) Série Gradiente - Dado \"G\" achar \"P\"\n",
    "\n",
    "Determinar o valor presente \"P\" através de uma série gradiente \"G\" em \"n\" períodos de tempo a uma taxa de juros \"i\".\n",
    "\n",
    "![image](resources/g-to-p.png)"
   ]
  },
  {
   "cell_type": "code",
   "execution_count": 27,
   "metadata": {},
   "outputs": [
    {
     "data": {
      "text/plain": [
       "3463.391141466519"
      ]
     },
     "execution_count": 27,
     "metadata": {},
     "output_type": "execute_result"
    }
   ],
   "source": [
    "def obter_vpresente_com_vserie_gradiente(vserie_gradiente: float, taxa: float, tempo: int):\n",
    "    juros = calc_juro_composto(taxa, tempo)\n",
    "    parte_a = ((juros - 1) / (taxa * taxa)) - (tempo / taxa)\n",
    "    parte_b = 1 / juros\n",
    "    vpresente = vserie_gradiente * parte_a * parte_b\n",
    "    return vpresente\n",
    "\n",
    "vpresente = obter_vpresente_com_vserie_gradiente(100, 0.08, 12)\n",
    "vpresente "
   ]
  }
 ],
 "metadata": {
  "interpreter": {
   "hash": "d4ecc00314b053340c011f30feae2cb0599056a19fa729c140ca6ecfe444bda2"
  },
  "kernelspec": {
   "display_name": "Python 3.9.13 64-bit (windows store)",
   "language": "python",
   "name": "python3"
  },
  "language_info": {
   "codemirror_mode": {
    "name": "ipython",
    "version": 3
   },
   "file_extension": ".py",
   "mimetype": "text/x-python",
   "name": "python",
   "nbconvert_exporter": "python",
   "pygments_lexer": "ipython3",
   "version": "3.9.13"
  },
  "orig_nbformat": 4
 },
 "nbformat": 4,
 "nbformat_minor": 2
}
