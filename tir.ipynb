{
 "cells": [
  {
   "cell_type": "code",
   "execution_count": 24,
   "metadata": {},
   "outputs": [],
   "source": [
    "import numpy_financial as npf\n",
    "# classe criada para organizar os dados de um investimento\n",
    "\n",
    "class investimento:\n",
    "    def __init__(self, taxa: float, fluxo_caixa: list[float], valor_futuro: float = 0.0):\n",
    "        self.taxa = taxa\n",
    "        self.fluxo_caixa = fluxo_caixa\n",
    "        self.valor_futuro = valor_futuro\n",
    "\n",
    "    def _calc_juro_composto(self) -> float:\n",
    "        juro_composto = (1 + self.taxa) ** len(self.fluxo_caixa) - 1\n",
    "        return juro_composto\n",
    "\n",
    "    def calc_vpl(self, incluir_valor_futuro: bool = False) -> float:\n",
    "        vpl = npf.npv(self.taxa, self.fluxo_caixa)\n",
    "        if(incluir_valor_futuro):\n",
    "            vpl = self.conv_F_to_P() + vpl\n",
    "            \n",
    "        return round(vpl, 2)\n",
    "\n",
    "    def conv_F_to_P(self) -> float:\n",
    "        valor_presente = self.valor_futuro * \\\n",
    "            (1 / self._calc_juro_composto())\n",
    "        return valor_presente\n",
    "    \n",
    "    def cal_tir(self) -> float:\n",
    "        tir = npf.irr(values = self.fluxo_caixa)\n",
    "        return round(tir, 4)"
   ]
  },
  {
   "cell_type": "markdown",
   "metadata": {},
   "source": [
    "# TIR - Taxa Interna de Retorno\n",
    "\n",
    "Taxa Interna de Retorno (TIR) permite que você encontre a remuneração do investimento em termos percentuais. Quando for calculada a TIR de determinado investimento e/ou financiamento, está sendo extraído dele o percentual de ganho que ele oferece ao investidor.\n",
    "\n",
    "## Tomada de Decisão\n",
    "\n",
    "Para decidir se um investimento é viável ou não ele deve possuir uma TIR maior que a TMA. O investimento de maior TIR deve ser o mais rentável.\n",
    "\n",
    "### Exemplo \n",
    "\n",
    "![tir.png](attachment:tir.png)"
   ]
  },
  {
   "cell_type": "code",
   "execution_count": 25,
   "metadata": {},
   "outputs": [
    {
     "data": {
      "text/plain": [
       "0.0378"
      ]
     },
     "execution_count": 25,
     "metadata": {},
     "output_type": "execute_result"
    }
   ],
   "source": [
    "inv1 = investimento(0.0, [-1_000, 250, 250, 300, 300]).cal_tir()\n",
    "inv1"
   ]
  }
 ],
 "metadata": {
  "kernelspec": {
   "display_name": "Python 3 (ipykernel)",
   "language": "python",
   "name": "python3"
  },
  "language_info": {
   "codemirror_mode": {
    "name": "ipython",
    "version": 3
   },
   "file_extension": ".py",
   "mimetype": "text/x-python",
   "name": "python",
   "nbconvert_exporter": "python",
   "pygments_lexer": "ipython3",
   "version": "3.9.7"
  },
  "vscode": {
   "interpreter": {
    "hash": "2b6d281538c488b9e400ab39d450b42a19cd685c2e4e72cc47179cc0022e4e5b"
   }
  }
 },
 "nbformat": 4,
 "nbformat_minor": 2
}
