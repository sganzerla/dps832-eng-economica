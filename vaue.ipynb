{
 "cells": [
  {
   "cell_type": "code",
   "execution_count": 13,
   "metadata": {},
   "outputs": [
    {
     "name": "stdout",
     "output_type": "stream",
     "text": [
      "Requirement already satisfied: numpy-financial in c:\\users\\aliss\\anaconda3\\lib\\site-packages (1.0.0)\n",
      "Requirement already satisfied: numpy>=1.15 in c:\\users\\aliss\\anaconda3\\lib\\site-packages (from numpy-financial) (1.20.3)\n"
     ]
    }
   ],
   "source": [
    "import numpy_financial as npf\n",
    "!pip install numpy-financial\n",
    "\n",
    "\n",
    "class Investimento(object):\n",
    "    def __init__(self, taxa, fluxo_caixa):\n",
    "        self.taxa: float = taxa\n",
    "        self.fluxo_caixa: list[float] = fluxo_caixa\n",
    "\n",
    "    def __calc_juro_composto__(self) -> float:\n",
    "        juro_composto = (1 + self.taxa) ** (len(self.fluxo_caixa) - 1)\n",
    "        return juro_composto\n",
    "\n",
    "    def calc_vpl(self) -> float:\n",
    "        vpl = npf.npv(self.taxa, self.fluxo_caixa)\n",
    "        return round(vpl, 2)\n",
    "\n",
    "    def calc_vaue(self) -> float:\n",
    "        vaue = - npf.pmt(rate=self.taxa,\n",
    "                         nper=len(self.fluxo_caixa) - 1, pv=self.calc_vpl())\n",
    "        return round(vaue, 2)\n",
    "\n",
    "\n",
    "def comparar_invest_via_vaue(inv_a: Investimento, inv_b: Investimento):\n",
    "\n",
    "    # investimento A\n",
    "    A = inv_a.calc_vaue()\n",
    "    # investimento B\n",
    "    B = inv_b.calc_vaue()\n",
    "\n",
    "    print(\"Comparação de investimentos considerando VAUE.\")\n",
    "\n",
    "    print(\"Investimento 1: \", A)\n",
    "    print(\"Investimento 2: \", B)\n",
    "\n",
    "    # avaliando qual investimento é melhor\n",
    "    maior_vaue = A if A > B else B\n",
    "    print(\"Melhor investimento, considerando maior valor VAUE é: \",\n",
    "          str(maior_vaue) + \"%\")\n"
   ]
  },
  {
   "cell_type": "markdown",
   "metadata": {},
   "source": [
    "## VAUE\n",
    "\n",
    "Este método consiste em achar a série uniforme anual (A) equivalente ao fluxo de caixa dos investimentos à Taxa de Mínima Atratividade (TMA), ou seja, acha-se a série uniforme equivalente a todos os custos e receitas para cada projeto utilizando-se a TMA. O melhor projeto é aquele que tiver o maior saldo positivo. \n",
    "\n",
    "O cálculo do VAUE consiste em determinar o que renderia o capital empregado à taxa mínima de atratividade e subtrair este valor, dos saldos líquidos anuais.\n",
    "\n"
   ]
  },
  {
   "cell_type": "code",
   "execution_count": 14,
   "metadata": {},
   "outputs": [
    {
     "name": "stdout",
     "output_type": "stream",
     "text": [
      "Comparação de investimentos considerando VAUE.\n",
      "Investimento 1:  3.77\n",
      "Investimento 2:  76.27\n",
      "Melhor investimento, considerando maior valor VAUE é:  76.27%\n"
     ]
    }
   ],
   "source": [
    "\n",
    "# investimento 1\n",
    "investimento1 = Investimento(\n",
    "    taxa=0.3, fluxo_caixa=[\n",
    "        -14_000,\n",
    "        5_000, 5_000, 5_000, 5_000, 5_000, 5_000, 5_000\n",
    "    ])\n",
    "\n",
    "# investimento 2\n",
    "investimento2 = Investimento(\n",
    "    taxa=0.3, fluxo_caixa=[\n",
    "        -18_000,\n",
    "        6_500, 6_500, 6_500, 6_500, 6_500, 6_500, 6_500\n",
    "    ])\n",
    "\n",
    "comparar_invest_via_vaue(investimento1, investimento2)\n"
   ]
  },
  {
   "cell_type": "markdown",
   "metadata": {},
   "source": []
  }
 ],
 "metadata": {
  "kernelspec": {
   "display_name": "Python 3.9.7 ('base')",
   "language": "python",
   "name": "python3"
  },
  "language_info": {
   "codemirror_mode": {
    "name": "ipython",
    "version": 3
   },
   "file_extension": ".py",
   "mimetype": "text/x-python",
   "name": "python",
   "nbconvert_exporter": "python",
   "pygments_lexer": "ipython3",
   "version": "3.9.7"
  },
  "vscode": {
   "interpreter": {
    "hash": "2b6d281538c488b9e400ab39d450b42a19cd685c2e4e72cc47179cc0022e4e5b"
   }
  }
 },
 "nbformat": 4,
 "nbformat_minor": 2
}
