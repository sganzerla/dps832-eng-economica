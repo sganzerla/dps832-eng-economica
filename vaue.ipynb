{
 "cells": [
  {
   "cell_type": "code",
   "execution_count": 7,
   "metadata": {},
   "outputs": [],
   "source": [
    "import numpy_financial as npf\n",
    "# classe criada para organizar os dados de um investimento\n",
    "\n",
    "class investimento:\n",
    "    def __init__(self, taxa: float, fluxo_caixa: list[float], valor_futuro: float = 0.0):\n",
    "        self.taxa = taxa\n",
    "        self.fluxo_caixa = fluxo_caixa\n",
    "        self.valor_futuro = valor_futuro\n",
    "\n",
    "    def _calc_juro_composto(self) -> float:\n",
    "        juro_composto = (1 + self.taxa) ** len(self.fluxo_caixa) - 1\n",
    "        return juro_composto\n",
    "\n",
    "    def calc_vpl(self, incluir_valor_futuro: bool = False) -> float:\n",
    "        vpl = npf.npv(self.taxa, self.fluxo_caixa)\n",
    "        if(incluir_valor_futuro):\n",
    "            vpl = self.conv_F_to_P() + vpl\n",
    "        return round(vpl, 2)\n",
    "\n",
    "    def conv_F_to_P(self) -> float:\n",
    "        valor_presente = self.valor_futuro * \\\n",
    "            (1 / self._calc_juro_composto())\n",
    "        return valor_presente\n",
    "    \n",
    "    def calc_tir(self) -> float:\n",
    "        tir = npf.irr(values = self.fluxo_caixa)\n",
    "        return round(tir * 100, 2)\n",
    "    \n",
    "    def calc_caue(self) -> float:\n",
    "        caue = - npf.pmt(rate=self.taxa, nper=len(self.fluxo_caixa) - 1, pv = self.calc_vpl())\n",
    "        return round(caue, 2) "
   ]
  },
  {
   "cell_type": "code",
   "execution_count": 8,
   "metadata": {},
   "outputs": [
    {
     "name": "stdout",
     "output_type": "stream",
     "text": [
      "Comparação de investimentos considerando CAUE.\n",
      "Investimento 1:  22.01\n",
      "Investimento 2:  15.75\n",
      "Melhor investimento, considerando maior valor CAUE é:  22.01%\n"
     ]
    }
   ],
   "source": [
    "def comparar_invest_via_tir(inv_a: investimento, inv_b: investimento):\n",
    "    \n",
    "    # vpl investimento A\n",
    "    A = inv_a.calc_caue()\n",
    "    # vlp investimento B\n",
    "    B = inv_b.calc_caue()\n",
    "\n",
    "    print(\"Comparação de investimentos considerando CAUE.\")\n",
    "\n",
    "    print(\"Investimento 1: \", A)\n",
    "    print(\"Investimento 2: \", B)\n",
    "\n",
    "    # avaliando qual investimento é melhor\n",
    "    maior_tir = A if A > B else B\n",
    "    print(\"Melhor investimento, considerando maior valor CAUE é: \",\n",
    "          str(maior_tir) + \"%\")\n",
    "\n",
    "#####################################################################\n",
    "######   Utilizando a função de avaliação de investimentos     ######\n",
    "#####################################################################\n",
    "\n",
    "\n",
    "# investimento 1\n",
    "investimento1: investimento = investimento(\n",
    "    taxa=0.1, fluxo_caixa=[-118, 90, 90])\n",
    "\n",
    "# investimento 2\n",
    "investimento2: investimento = investimento(\n",
    "    taxa=0.1, fluxo_caixa=[-120, 64, 64, 64])\n",
    "\n",
    "comparar_invest_via_tir(investimento1, investimento2)"
   ]
  },
  {
   "cell_type": "markdown",
   "metadata": {},
   "source": []
  }
 ],
 "metadata": {
  "kernelspec": {
   "display_name": "Python 3.9.7 ('base')",
   "language": "python",
   "name": "python3"
  },
  "language_info": {
   "codemirror_mode": {
    "name": "ipython",
    "version": 3
   },
   "file_extension": ".py",
   "mimetype": "text/x-python",
   "name": "python",
   "nbconvert_exporter": "python",
   "pygments_lexer": "ipython3",
   "version": "3.9.7"
  },
  "vscode": {
   "interpreter": {
    "hash": "2b6d281538c488b9e400ab39d450b42a19cd685c2e4e72cc47179cc0022e4e5b"
   }
  }
 },
 "nbformat": 4,
 "nbformat_minor": 2
}
